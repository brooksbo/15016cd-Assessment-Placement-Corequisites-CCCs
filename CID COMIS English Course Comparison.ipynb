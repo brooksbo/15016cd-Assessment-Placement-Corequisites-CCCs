{
 "cells": [
  {
   "cell_type": "markdown",
   "metadata": {},
   "source": [
    "# 15016c/d: Assessment and Placement / Corequisite Reforms in CCCs\n",
    "\n",
    "## Investigating English Course Data\n",
    "#### _Programmer_: Bonnie Brooks\n",
    "\n",
    "**Purpose**: To compare the list of English Composition courses we have available in the latest download of the California Community College Chancellor's Office Management Information System (COMIS) to the list of designated transfer courses provided by the Course Identification Numbering System (C-ID) that are commonly articulated between the the CCC and universities (namely UC, CSU, and other independent colleges/universities). This code is used to identify courses that are and are not present in both COMIS and CID course data\n",
    "  \n",
    "**Deliverables**: .csv/.dta files of courses that are present in both datasets; .csv/.dta files of courses that are not present in both datasets\n",
    "\n",
    "**Note**:\n",
    "- You can only run this Jupyter notebook in the environment where COMIS course data lives (cb_course.dta)"
   ]
  },
  {
   "cell_type": "code",
   "execution_count": null,
   "metadata": {},
   "outputs": [],
   "source": [
    "import pandas as pd\n",
    "import numpy as np\n",
    "import sys\n",
    "\n",
    "pd.set_option('precision', 0)\n",
    "pd.set_option('display.max_columns', 550)\n",
    "pd.set_option('display.max_rows', 550)"
   ]
  },
  {
   "cell_type": "code",
   "execution_count": null,
   "metadata": {},
   "outputs": [],
   "source": [
    "df_cid = pd.read_csv(\"CID_ENGL_2020.csv\")\n",
    "df_cap = pd.read_csv(\"CAP_COURSES_2019.csv\")\n",
    "df_cb_courses = pd.read_stata(\"Z:\\\\projects\\\\CCCCO\\\\Data\\\\Download2020\\\\StataDatasets2020\\\\cb_course.dta\")"
   ]
  },
  {
   "cell_type": "code",
   "execution_count": null,
   "metadata": {},
   "outputs": [],
   "source": [
    "df_cb_courses.head()"
   ]
  },
  {
   "cell_type": "code",
   "execution_count": null,
   "metadata": {},
   "outputs": [],
   "source": [
    "df_cid.columns"
   ]
  },
  {
   "cell_type": "code",
   "execution_count": null,
   "metadata": {},
   "outputs": [],
   "source": [
    "df_cap.head()"
   ]
  },
  {
   "cell_type": "code",
   "execution_count": null,
   "metadata": {},
   "outputs": [],
   "source": [
    "df_cap = df_cap.drop(['Unnamed: 0'], axis=1)"
   ]
  },
  {
   "cell_type": "markdown",
   "metadata": {},
   "source": [
    "**_Creating sub-dataframes for courses in COMIS and courses in CID:_**"
   ]
  },
  {
   "cell_type": "code",
   "execution_count": null,
   "metadata": {},
   "outputs": [],
   "source": [
    "df_cap_comp = df_cap[df_cap['Freshman_composition']==1]"
   ]
  },
  {
   "cell_type": "code",
   "execution_count": null,
   "metadata": {},
   "outputs": [],
   "source": [
    "df_cap_comp.head()"
   ]
  },
  {
   "cell_type": "code",
   "execution_count": null,
   "metadata": {},
   "outputs": [],
   "source": [
    "df_cb_courses['counter'] = 1"
   ]
  },
  {
   "cell_type": "code",
   "execution_count": null,
   "metadata": {},
   "outputs": [],
   "source": [
    "#creating a \"collapsed\" version of cb_course.dta unique to COLLEGE_NAME, CONTROL_NUMBER, COURSE_ID, TOP_CODE\n",
    "\n",
    "#STATA: collapse (<stat>) <stat_vars>, by(<groupvars>)\n",
    "#PYTHON: df.groupby(<groupvars>)[<stat_vars>].<stat>().reset_index()\n",
    "\n",
    "cb_courses_collapsed = df_cb_courses.groupby(['COLLEGE_NAME', 'CONTROL_NUMBER', 'COURSE_ID', 'TOP_CODE'])['counter'].sum().reset_index()\n",
    "cb_courses_collapsed = cb_courses_collapsed[(cb_courses_collapsed['TOP_CODE']==\"150100\") | (cb_courses_collapsed['TOP_CODE']==\"152000\")]"
   ]
  },
  {
   "cell_type": "code",
   "execution_count": null,
   "metadata": {},
   "outputs": [],
   "source": [
    "cb_courses_collapsed.head()"
   ]
  },
  {
   "cell_type": "markdown",
   "metadata": {},
   "source": [
    "##### _**Problem:**_ \n",
    "  \n",
    "Sub-dataframes of CID, COMIS, and cb_course don't have the same spelling of course id numbers across each dataset. \n",
    "\n",
    "##### **_Solution:_** \n",
    "  \n",
    "Need to create a function that cleans the COURSE_ID column in each respective dataframe and eliminates inconsistiencies in spelling, spacing, etc. "
   ]
  },
  {
   "cell_type": "code",
   "execution_count": null,
   "metadata": {},
   "outputs": [],
   "source": [
    "dfs = [df_cid, df_cap_comp, cb_courses_collapsed]\n",
    "\n",
    "for df in dfs:\n",
    "    df['COLLEGE_NAME'] = df['COLLEGE_NAME'].str.strip()\n",
    "    df['Alpha'] = df['COURSE_ID'].str.extract('([a-zA-Z]+)', expand=True)\n",
    "    df['Numeric'] = df['COURSE_ID'].str.extract('([0-9]+\\S\\d+|[0-9]\\w{0,}[A-Z]|[0-9])', expand=True) # extracting numeric characters from COURSE_ID \n",
    "    df['COURSE_ID_NEW'] = df['Alpha'] + \"_\" + df['Numeric']\n",
    "    df['COURSE_ID_NEW'] = df['COURSE_ID_NEW'].str.upper().str.strip().str.replace(\"-\", \"\")\n",
    "    "
   ]
  },
  {
   "cell_type": "code",
   "execution_count": null,
   "metadata": {},
   "outputs": [],
   "source": [
    "cb_courses_collapsed.head()"
   ]
  },
  {
   "cell_type": "code",
   "execution_count": null,
   "metadata": {},
   "outputs": [],
   "source": [
    "# merging COMIS and CID dataframes, flagging which courses are and aren't in both datasets\n",
    "\n",
    "df_merged = pd.merge(df_cap_comp, df_cid[['COLLEGE_NAME', 'COURSE_ID_NEW', 'Local Course Title(s)', 'Approval date', 'COR effective term']], how='outer', on=['COLLEGE_NAME', 'COURSE_ID_NEW'], indicator=True)\n",
    "df_merged = df_merged.sort_values(by=['COLLEGE_NAME', 'COURSE_ID_NEW'])"
   ]
  },
  {
   "cell_type": "code",
   "execution_count": null,
   "metadata": {},
   "outputs": [],
   "source": [
    "df_merged.head()"
   ]
  },
  {
   "cell_type": "code",
   "execution_count": null,
   "metadata": {},
   "outputs": [],
   "source": [
    "df_merged._merge.value_counts()"
   ]
  },
  {
   "cell_type": "code",
   "execution_count": null,
   "metadata": {},
   "outputs": [],
   "source": [
    "df_merged.to_csv(\"CAP_CID_MERGE.csv\")"
   ]
  },
  {
   "cell_type": "markdown",
   "metadata": {},
   "source": [
    "**_We're also interested in seeing which courses from the CID that weren't in COMIS are present in our most up-to-date download of the COMIS course data (cb-course):_**"
   ]
  },
  {
   "cell_type": "code",
   "execution_count": null,
   "metadata": {},
   "outputs": [],
   "source": [
    "cid_not_in_cap = df_merged[df_merged['_merge']=='right_only']"
   ]
  },
  {
   "cell_type": "code",
   "execution_count": null,
   "metadata": {},
   "outputs": [],
   "source": [
    "cid_not_in_cap.head()"
   ]
  },
  {
   "cell_type": "code",
   "execution_count": null,
   "metadata": {},
   "outputs": [],
   "source": [
    "cid_cb_courses = cid_not_in_cap.merge(cb_courses_collapsed[['COLLEGE_NAME', 'COURSE_ID_NEW']], how=\"outer\", on=['COLLEGE_NAME', 'COURSE_ID_NEW'],  indicator='still_missing')"
   ]
  },
  {
   "cell_type": "code",
   "execution_count": null,
   "metadata": {},
   "outputs": [],
   "source": [
    "cid_cb_courses = cid_cb_courses[['COLLEGE_NAME', 'COURSE_ID_NEW', 'Freshman_composition', 'Local Course Title(s)', 'Approval date', 'COR effective term', 'still_missing']]"
   ]
  },
  {
   "cell_type": "code",
   "execution_count": null,
   "metadata": {},
   "outputs": [],
   "source": [
    "cid_cb_courses.head()"
   ]
  },
  {
   "cell_type": "code",
   "execution_count": null,
   "metadata": {},
   "outputs": [],
   "source": [
    "cid_cb_courses.still_missing.value_counts()"
   ]
  },
  {
   "cell_type": "code",
   "execution_count": null,
   "metadata": {},
   "outputs": [],
   "source": [
    "cid_cb_courses.to_csv(\"CID_NOT_IN_CAP_MERGED_WITH_CB_COURESES.csv\")"
   ]
  }
 ],
 "metadata": {
  "kernelspec": {
   "display_name": "Python 3",
   "language": "python",
   "name": "python3"
  },
  "language_info": {
   "codemirror_mode": {
    "name": "ipython",
    "version": 3
   },
   "file_extension": ".py",
   "mimetype": "text/x-python",
   "name": "python",
   "nbconvert_exporter": "python",
   "pygments_lexer": "ipython3",
   "version": "3.7.0"
  }
 },
 "nbformat": 4,
 "nbformat_minor": 4
}
